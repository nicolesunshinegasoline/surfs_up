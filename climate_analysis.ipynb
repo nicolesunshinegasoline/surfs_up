{
 "cells": [
  {
   "cell_type": "markdown",
   "id": "ca17701c",
   "metadata": {},
   "source": [
    "# Getting Started with SQLAlchemy"
   ]
  },
  {
   "cell_type": "code",
   "execution_count": 1,
   "id": "c4397246",
   "metadata": {},
   "outputs": [],
   "source": [
    "# Import Matplotlib Dependencies\n",
    "from matplotlib import style\n",
    "style.use('fivethirtyeight')\n",
    "import matplotlib.pyplot as plt\n",
    "\n",
    "# Import NumPy and Pandas Dependencies\n",
    "import numpy as np\n",
    "import pandas as pd\n",
    "\n",
    "# Import Datetime Dependencies\n",
    "import datetime as dt\n",
    "\n",
    "# Import SQLAlchemy Dependencies\n",
    "import sqlalchemy\n",
    "from sqlalchemy.ext.automap import automap_base\n",
    "from sqlalchemy.orm import Session\n",
    "from sqlalchemy import create_engine, func"
   ]
  },
  {
   "cell_type": "code",
   "execution_count": 2,
   "id": "efba3b0c",
   "metadata": {},
   "outputs": [],
   "source": [
    "# prepares the database file to be connected to later on\n",
    "engine = create_engine(\"sqlite:///hawaii.sqlite\")\n",
    "# create a base class for an automap schema in SQLAlchemy\n",
    "Base = automap_base()"
   ]
  },
  {
   "cell_type": "markdown",
   "id": "a20a6236",
   "metadata": {},
   "source": [
    "#### SQLAlchemy Reflect Tables"
   ]
  },
  {
   "cell_type": "code",
   "execution_count": 3,
   "id": "45cce0c2",
   "metadata": {},
   "outputs": [],
   "source": [
    "# reflect the schema from the tables to help keep our code separate\n",
    "Base.prepare(engine, reflect=True)"
   ]
  },
  {
   "cell_type": "markdown",
   "id": "af18f1b7",
   "metadata": {},
   "source": [
    "#### View Classes Found by Automap"
   ]
  },
  {
   "cell_type": "code",
   "execution_count": 4,
   "id": "57e45bf1",
   "metadata": {},
   "outputs": [
    {
     "data": {
      "text/plain": [
       "['measurement', 'station']"
      ]
     },
     "execution_count": 4,
     "metadata": {},
     "output_type": "execute_result"
    }
   ],
   "source": [
    "# confirm that the Automap was able to find all of the data in the SQLite database\n",
    "Base.classes.keys()"
   ]
  },
  {
   "cell_type": "markdown",
   "id": "0917694e",
   "metadata": {},
   "source": [
    "#### Save References to Each Table"
   ]
  },
  {
   "cell_type": "code",
   "execution_count": 5,
   "id": "b9cd4502",
   "metadata": {},
   "outputs": [],
   "source": [
    "# Reference the measurement class \n",
    "Measurement = Base.classes.measurement\n",
    "# Reference the station class \n",
    "Station = Base.classes.station"
   ]
  },
  {
   "cell_type": "code",
   "execution_count": 6,
   "id": "b6a5ce52",
   "metadata": {},
   "outputs": [],
   "source": [
    "session = Session(engine)"
   ]
  },
  {
   "cell_type": "code",
   "execution_count": null,
   "id": "2b17d630",
   "metadata": {},
   "outputs": [],
   "source": []
  },
  {
   "cell_type": "code",
   "execution_count": null,
   "id": "1d1fea4b",
   "metadata": {},
   "outputs": [],
   "source": []
  }
 ],
 "metadata": {
  "interpreter": {
   "hash": "4adabfa8894a39021189f693908f91ae6eec99fc1585300e560d7375117755c1"
  },
  "kernelspec": {
   "display_name": "PythonData",
   "language": "python",
   "name": "pythondata"
  },
  "language_info": {
   "codemirror_mode": {
    "name": "ipython",
    "version": 3
   },
   "file_extension": ".py",
   "mimetype": "text/x-python",
   "name": "python",
   "nbconvert_exporter": "python",
   "pygments_lexer": "ipython3",
   "version": "3.9.7"
  }
 },
 "nbformat": 4,
 "nbformat_minor": 5
}
